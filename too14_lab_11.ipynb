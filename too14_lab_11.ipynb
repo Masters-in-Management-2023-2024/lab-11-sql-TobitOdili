{
  "cells": [
    {
      "cell_type": "markdown",
      "metadata": {
        "id": "TGU-zFJ3RGmx"
      },
      "source": [
        "# Lab Exercise: SQL Analysis with Polars\n",
        "\n",
        "In this lab, you'll practice SQL queries using Polars' built-in SQL functionality. Complete each exercise by writing the appropriate SQL query."
      ]
    },
    {
      "cell_type": "code",
      "execution_count": 12,
      "metadata": {
        "colab": {
          "base_uri": "https://localhost:8080/"
        },
        "id": "rFS1lrz-RGmx",
        "outputId": "33099a92-a27f-4e87-f60c-b29cd8bc00a5"
      },
      "outputs": [
        {
          "output_type": "stream",
          "name": "stdout",
          "text": [
            "Setup complete! Tables available:\n",
            "shape: (5, 1)\n",
            "┌──────────┐\n",
            "│ name     │\n",
            "│ ---      │\n",
            "│ str      │\n",
            "╞══════════╡\n",
            "│ airlines │\n",
            "│ airports │\n",
            "│ flights  │\n",
            "│ planes   │\n",
            "│ weather  │\n",
            "└──────────┘\n"
          ]
        },
        {
          "output_type": "stream",
          "name": "stderr",
          "text": [
            "/tmp/ipython-input-745455298.py:15: DeprecationWarning: The argument `eager_execution` for `SQLContext.__init__` is deprecated. It has been renamed to `eager`.\n",
            "  ctx = pl.SQLContext(\n"
          ]
        }
      ],
      "source": [
        "# Setup - Run this cell first\n",
        "import polars as pl\n",
        "\n",
        "# Load data\n",
        "airlines = pl.read_csv('https://raw.githubusercontent.com/philhetzel/opan5510-class11/refs/heads/main/data/nyc_airlines.csv')\n",
        "airports = pl.read_csv('https://raw.githubusercontent.com/philhetzel/opan5510-class11/refs/heads/main/data/nyc_airports.csv')\n",
        "flights = pl.read_csv('https://raw.githubusercontent.com/philhetzel/opan5510-class11/refs/heads/main/data/nyc_flights.csv', null_values='NA')\n",
        "planes = pl.read_csv('https://raw.githubusercontent.com/philhetzel/opan5510-class11/refs/heads/main/data/nyc_planes.csv', null_values='NA')\n",
        "weather = pl.read_csv('https://raw.githubusercontent.com/philhetzel/opan5510-class11/refs/heads/main/data/nyc_weather.csv', null_values='NA', schema_overrides={'precip': pl.Float64, 'visib': pl.Float64})\n",
        "\n",
        "flights = flights.with_columns(pl.col(\"time_hour\").str.strptime(pl.Datetime))\n",
        "weather = weather.with_columns(pl.col(\"time_hour\").str.strptime(pl.Datetime))\n",
        "\n",
        "# Create SQL context\n",
        "ctx = pl.SQLContext(\n",
        "    airlines=airlines,\n",
        "    airports=airports,\n",
        "    flights=flights,\n",
        "    planes=planes,\n",
        "    weather=weather,\n",
        "    eager_execution=True\n",
        ")\n",
        "\n",
        "print(\"Setup complete! Tables available:\")\n",
        "print(ctx.execute(\"SHOW TABLES\"))"
      ]
    },
    {
      "cell_type": "markdown",
      "metadata": {
        "id": "wI6p59kHRGmy"
      },
      "source": [
        "## Exercise 1: Basic Queries\n",
        "\n",
        "### 1.1 Find all unique carriers in the airlines table"
      ]
    },
    {
      "cell_type": "code",
      "execution_count": 19,
      "metadata": {
        "colab": {
          "base_uri": "https://localhost:8080/"
        },
        "id": "gTqwjCnFRGmy",
        "outputId": "34da19dd-090e-499d-8b61-44f40acf1639"
      },
      "outputs": [
        {
          "output_type": "stream",
          "name": "stdout",
          "text": [
            "shape: (16, 1)\n",
            "┌─────────┐\n",
            "│ carrier │\n",
            "│ ---     │\n",
            "│ str     │\n",
            "╞═════════╡\n",
            "│ 9E      │\n",
            "│ AA      │\n",
            "│ AS      │\n",
            "│ B6      │\n",
            "│ DL      │\n",
            "│ …       │\n",
            "│ UA      │\n",
            "│ US      │\n",
            "│ VX      │\n",
            "│ WN      │\n",
            "│ YV      │\n",
            "└─────────┘\n"
          ]
        }
      ],
      "source": [
        "# Write your SQL query here\n",
        "result = ctx.execute(\"\"\"\n",
        "SELECT DISTINCT carrier\n",
        "FROM airlines\n",
        "\"\"\")\n",
        "\n",
        "print(result)"
      ]
    },
    {
      "cell_type": "markdown",
      "metadata": {
        "id": "e6--ZKtRRGmy"
      },
      "source": [
        "### 1.2 Find the top 10 destinations by number of flights"
      ]
    },
    {
      "cell_type": "code",
      "execution_count": 28,
      "metadata": {
        "colab": {
          "base_uri": "https://localhost:8080/"
        },
        "id": "PxUZvMHoRGmy",
        "outputId": "967c6d40-15f1-4397-bad4-26fa876b4aff"
      },
      "outputs": [
        {
          "output_type": "stream",
          "name": "stdout",
          "text": [
            "shape: (10, 2)\n",
            "┌──────┬──────────────┐\n",
            "│ dest ┆ flight_count │\n",
            "│ ---  ┆ ---          │\n",
            "│ str  ┆ u32          │\n",
            "╞══════╪══════════════╡\n",
            "│ ORD  ┆ 17283        │\n",
            "│ ATL  ┆ 17215        │\n",
            "│ LAX  ┆ 16174        │\n",
            "│ BOS  ┆ 15508        │\n",
            "│ MCO  ┆ 14082        │\n",
            "│ CLT  ┆ 14064        │\n",
            "│ SFO  ┆ 13331        │\n",
            "│ FLL  ┆ 12055        │\n",
            "│ MIA  ┆ 11728        │\n",
            "│ DCA  ┆ 9705         │\n",
            "└──────┴──────────────┘\n"
          ]
        }
      ],
      "source": [
        "# Write your SQL query here\n",
        "result = ctx.execute(\"\"\"\n",
        "SELECT dest, COUNT(*) AS flight_count\n",
        "FROM flights\n",
        "GROUP BY dest\n",
        "ORDER BY flight_count DESC\n",
        "LIMIT 10\n",
        "\"\"\")\n",
        "\n",
        "print(result)"
      ]
    },
    {
      "cell_type": "markdown",
      "metadata": {
        "id": "q3UwqvQLRGmy"
      },
      "source": [
        "### 1.3 Find all flights that departed more than 2 hours late (120 minutes)"
      ]
    },
    {
      "cell_type": "code",
      "execution_count": 32,
      "metadata": {
        "colab": {
          "base_uri": "https://localhost:8080/"
        },
        "id": "RHFRh1WTRGmy",
        "outputId": "7364d920-b8f9-4f53-9466-8e42f1070ae9"
      },
      "outputs": [
        {
          "output_type": "stream",
          "name": "stdout",
          "text": [
            "shape: (9_723, 19)\n",
            "┌──────┬───────┬─────┬──────────┬───┬──────────┬──────┬────────┬─────────────────────────┐\n",
            "│ year ┆ month ┆ day ┆ dep_time ┆ … ┆ distance ┆ hour ┆ minute ┆ time_hour               │\n",
            "│ ---  ┆ ---   ┆ --- ┆ ---      ┆   ┆ ---      ┆ ---  ┆ ---    ┆ ---                     │\n",
            "│ i64  ┆ i64   ┆ i64 ┆ i64      ┆   ┆ i64      ┆ i64  ┆ i64    ┆ datetime[μs, UTC]       │\n",
            "╞══════╪═══════╪═════╪══════════╪═══╪══════════╪══════╪════════╪═════════════════════════╡\n",
            "│ 2013 ┆ 1     ┆ 1   ┆ 848      ┆ … ┆ 184      ┆ 18   ┆ 35     ┆ 2013-01-01 23:00:00 UTC │\n",
            "│ 2013 ┆ 1     ┆ 1   ┆ 957      ┆ … ┆ 200      ┆ 7    ┆ 33     ┆ 2013-01-01 12:00:00 UTC │\n",
            "│ 2013 ┆ 1     ┆ 1   ┆ 1114     ┆ … ┆ 1416     ┆ 9    ┆ 0      ┆ 2013-01-01 14:00:00 UTC │\n",
            "│ 2013 ┆ 1     ┆ 1   ┆ 1540     ┆ … ┆ 1598     ┆ 13   ┆ 38     ┆ 2013-01-01 18:00:00 UTC │\n",
            "│ 2013 ┆ 1     ┆ 1   ┆ 1815     ┆ … ┆ 1134     ┆ 13   ┆ 25     ┆ 2013-01-01 18:00:00 UTC │\n",
            "│ …    ┆ …     ┆ …   ┆ …        ┆ … ┆ …        ┆ …    ┆ …      ┆ …                       │\n",
            "│ 2013 ┆ 9     ┆ 30  ┆ 1823     ┆ … ┆ 765      ┆ 15   ┆ 45     ┆ 2013-09-30 19:00:00 UTC │\n",
            "│ 2013 ┆ 9     ┆ 30  ┆ 1951     ┆ … ┆ 708      ┆ 16   ┆ 49     ┆ 2013-09-30 20:00:00 UTC │\n",
            "│ 2013 ┆ 9     ┆ 30  ┆ 2053     ┆ … ┆ 746      ┆ 18   ┆ 15     ┆ 2013-09-30 22:00:00 UTC │\n",
            "│ 2013 ┆ 9     ┆ 30  ┆ 2159     ┆ … ┆ 301      ┆ 18   ┆ 45     ┆ 2013-09-30 22:00:00 UTC │\n",
            "│ 2013 ┆ 9     ┆ 30  ┆ 2235     ┆ … ┆ 944      ┆ 20   ┆ 1      ┆ 2013-10-01 00:00:00 UTC │\n",
            "└──────┴───────┴─────┴──────────┴───┴──────────┴──────┴────────┴─────────────────────────┘\n"
          ]
        }
      ],
      "source": [
        "# Write your SQL query here\n",
        "result = ctx.execute(\"\"\"\n",
        "SELECT *\n",
        "FROM flights\n",
        "WHERE dep_delay > 120\n",
        "\"\"\")\n",
        "\n",
        "print(result)"
      ]
    },
    {
      "cell_type": "markdown",
      "metadata": {
        "id": "c8MSRgVqRGmy"
      },
      "source": [
        "## Exercise 2: Aggregation\n",
        "\n",
        "### 2.1 Calculate the average departure delay for each origin airport"
      ]
    },
    {
      "cell_type": "code",
      "execution_count": 35,
      "metadata": {
        "colab": {
          "base_uri": "https://localhost:8080/"
        },
        "id": "VsZ-_hS0RGmz",
        "outputId": "4b53aa63-c1f5-4fa1-8b1e-fc661d3726d2"
      },
      "outputs": [
        {
          "output_type": "stream",
          "name": "stdout",
          "text": [
            "shape: (3, 2)\n",
            "┌────────┬──────────────────┐\n",
            "│ origin ┆ avg_flight_delay │\n",
            "│ ---    ┆ ---              │\n",
            "│ str    ┆ f64              │\n",
            "╞════════╪══════════════════╡\n",
            "│ EWR    ┆ 15.107954        │\n",
            "│ JFK    ┆ 12.112159        │\n",
            "│ LGA    ┆ 10.346876        │\n",
            "└────────┴──────────────────┘\n"
          ]
        }
      ],
      "source": [
        "# Write your SQL query here\n",
        "result = ctx.execute(\"\"\"\n",
        "SELECT\n",
        "    origin,\n",
        "    AVG(dep_delay) as avg_flight_delay\n",
        "FROM flights\n",
        "WHERE dep_delay IS NOT NULL\n",
        "GROUP BY origin\n",
        "ORDER BY avg_flight_delay DESC\n",
        "\"\"\")\n",
        "\n",
        "print(result)"
      ]
    },
    {
      "cell_type": "markdown",
      "metadata": {
        "id": "_hvUK-ZbRGmz"
      },
      "source": [
        "### 2.2 Find the busiest month of the year\n",
        "\n",
        "Count the number of flights per month and find which month has the most flights."
      ]
    },
    {
      "cell_type": "code",
      "execution_count": 38,
      "metadata": {
        "colab": {
          "base_uri": "https://localhost:8080/"
        },
        "id": "Q6XgMvoRRGmz",
        "outputId": "4ff8389d-2cd0-4cee-c0a9-8f5abb665363"
      },
      "outputs": [
        {
          "output_type": "stream",
          "name": "stdout",
          "text": [
            "shape: (1, 2)\n",
            "┌───────┬──────────────┐\n",
            "│ month ┆ flight_count │\n",
            "│ ---   ┆ ---          │\n",
            "│ i64   ┆ u32          │\n",
            "╞═══════╪══════════════╡\n",
            "│ 7     ┆ 29425        │\n",
            "└───────┴──────────────┘\n"
          ]
        }
      ],
      "source": [
        "# First, let's check what columns are available\n",
        "result = ctx.execute(\"\"\"\n",
        "    SELECT *\n",
        "    FROM flights\n",
        "    LIMIT 5\n",
        "\"\"\")\n",
        "# print(result)\n",
        "\n",
        "# Now write your query to find busiest month\n",
        "result = ctx.execute(\"\"\"\n",
        "SELECT month, COUNT(*) AS flight_count\n",
        "FROM flights\n",
        "GROUP BY month\n",
        "ORDER BY flight_count DESC\n",
        "LIMIT 1\n",
        "\"\"\")\n",
        "\n",
        "print(result)"
      ]
    },
    {
      "cell_type": "markdown",
      "metadata": {
        "id": "Ggox4EljRGmz"
      },
      "source": [
        "### 2.3 Calculate the on-time performance rate for each carrier\n",
        "\n",
        "Consider a flight on-time if the departure delay is <= 15 minutes."
      ]
    },
    {
      "cell_type": "code",
      "execution_count": 45,
      "metadata": {
        "colab": {
          "base_uri": "https://localhost:8080/"
        },
        "id": "kicVWdRkRGmz",
        "outputId": "40ce329a-2eaa-4955-c25c-bcf723874b0f"
      },
      "outputs": [
        {
          "output_type": "stream",
          "name": "stdout",
          "text": [
            "shape: (16, 2)\n",
            "┌─────────┬─────────────┐\n",
            "│ carrier ┆ pct_on_time │\n",
            "│ ---     ┆ ---         │\n",
            "│ str     ┆ f64         │\n",
            "╞═════════╪═════════════╡\n",
            "│ HA      ┆ 92.982456   │\n",
            "│ US      ┆ 87.822674   │\n",
            "│ AS      ┆ 86.797753   │\n",
            "│ AA      ┆ 84.071293   │\n",
            "│ DL      ┆ 83.681246   │\n",
            "│ …       ┆ …           │\n",
            "│ FL      ┆ 73.32915    │\n",
            "│ WN      ┆ 73.102706   │\n",
            "│ F9      ┆ 71.847507   │\n",
            "│ YV      ┆ 71.376147   │\n",
            "│ EV      ┆ 69.538126   │\n",
            "└─────────┴─────────────┘\n"
          ]
        }
      ],
      "source": [
        "# Write your SQL query here\n",
        "result = ctx.execute(\"\"\"\n",
        "    SELECT carrier,\n",
        "           CAST(SUM(CASE WHEN dep_delay <= 15 THEN 1 ELSE 0 END) AS REAL) * 100 / COUNT(*) AS pct_on_time\n",
        "    FROM flights\n",
        "    WHERE dep_delay IS NOT NULL\n",
        "    GROUP BY carrier\n",
        "    ORDER BY pct_on_time DESC\n",
        "\"\"\")\n",
        "\n",
        "print(result)"
      ]
    },
    {
      "cell_type": "markdown",
      "metadata": {
        "id": "yKQ29AMJRGmz"
      },
      "source": [
        "## Exercise 3: Joins\n",
        "\n",
        "### 3.1 List all flights with their airline names (not just carrier codes)\n",
        "\n",
        "Show the first 20 flights with carrier code, airline name, flight number, origin, and destination."
      ]
    },
    {
      "cell_type": "code",
      "execution_count": 52,
      "metadata": {
        "colab": {
          "base_uri": "https://localhost:8080/"
        },
        "id": "sKRcivL9RGmz",
        "outputId": "3b8ea35f-7ece-4ed3-9bf6-5c2f94577895"
      },
      "outputs": [
        {
          "output_type": "stream",
          "name": "stdout",
          "text": [
            "shape: (20, 5)\n",
            "┌─────────┬────────────────────────┬────────┬────────┬──────┐\n",
            "│ carrier ┆ airline_name           ┆ flight ┆ origin ┆ dest │\n",
            "│ ---     ┆ ---                    ┆ ---    ┆ ---    ┆ ---  │\n",
            "│ str     ┆ str                    ┆ i64    ┆ str    ┆ str  │\n",
            "╞═════════╪════════════════════════╪════════╪════════╪══════╡\n",
            "│ UA      ┆ United Air Lines Inc.  ┆ 1545   ┆ EWR    ┆ IAH  │\n",
            "│ UA      ┆ United Air Lines Inc.  ┆ 1714   ┆ LGA    ┆ IAH  │\n",
            "│ AA      ┆ American Airlines Inc. ┆ 1141   ┆ JFK    ┆ MIA  │\n",
            "│ B6      ┆ JetBlue Airways        ┆ 725    ┆ JFK    ┆ BQN  │\n",
            "│ DL      ┆ Delta Air Lines Inc.   ┆ 461    ┆ LGA    ┆ ATL  │\n",
            "│ …       ┆ …                      ┆ …      ┆ …      ┆ …    │\n",
            "│ B6      ┆ JetBlue Airways        ┆ 1806   ┆ JFK    ┆ BOS  │\n",
            "│ UA      ┆ United Air Lines Inc.  ┆ 1187   ┆ EWR    ┆ LAS  │\n",
            "│ B6      ┆ JetBlue Airways        ┆ 371    ┆ LGA    ┆ FLL  │\n",
            "│ MQ      ┆ Envoy Air              ┆ 4650   ┆ LGA    ┆ ATL  │\n",
            "│ B6      ┆ JetBlue Airways        ┆ 343    ┆ EWR    ┆ PBI  │\n",
            "└─────────┴────────────────────────┴────────┴────────┴──────┘\n"
          ]
        }
      ],
      "source": [
        "# Write your SQL query here\n",
        "result = ctx.execute(\"\"\"\n",
        "SELECT\n",
        "    f.carrier,\n",
        "    a.name AS airline_name,\n",
        "    f.flight,\n",
        "    f.origin,\n",
        "    f.dest\n",
        "FROM flights AS f\n",
        "JOIN airlines AS a\n",
        "    ON f.carrier = a.carrier\n",
        "LIMIT 20\n",
        "\"\"\")\n",
        "\n",
        "print(result)"
      ]
    },
    {
      "cell_type": "markdown",
      "metadata": {
        "id": "arpjiErhRGmz"
      },
      "source": [
        "### 3.2 Find the average age of planes for each carrier\n",
        "\n",
        "Hint: The planes table has a `year` column for manufacture year. Calculate age based on 2013."
      ]
    },
    {
      "cell_type": "code",
      "execution_count": 50,
      "metadata": {
        "colab": {
          "base_uri": "https://localhost:8080/"
        },
        "id": "nZQxI8mKRGmz",
        "outputId": "68d94012-d3b8-4bdb-e4a7-20353ff53de7"
      },
      "outputs": [
        {
          "output_type": "stream",
          "name": "stdout",
          "text": [
            "shape: (16, 2)\n",
            "┌─────────┬───────────────┐\n",
            "│ carrier ┆ avg_plane_age │\n",
            "│ ---     ┆ ---           │\n",
            "│ str     ┆ f64           │\n",
            "╞═════════╪═══════════════╡\n",
            "│ MQ      ┆ 35.319        │\n",
            "│ AA      ┆ 25.869426     │\n",
            "│ DL      ┆ 16.372169     │\n",
            "│ UA      ┆ 13.207691     │\n",
            "│ FL      ┆ 11.385829     │\n",
            "│ …       ┆ …             │\n",
            "│ B6      ┆ 6.686702      │\n",
            "│ F9      ┆ 4.87874       │\n",
            "│ VX      ┆ 4.473643      │\n",
            "│ AS      ┆ 3.33662       │\n",
            "│ HA      ┆ 1.548387      │\n",
            "└─────────┴───────────────┘\n"
          ]
        }
      ],
      "source": [
        "# Write your SQL query here\n",
        "result = ctx.execute(\"\"\"\n",
        "SELECT flights.carrier,\n",
        "        AVG(2013 - planes.year) AS avg_plane_age\n",
        "FROM flights\n",
        "LEFT JOIN planes\n",
        "  ON flights.tailnum = planes.tailnum\n",
        "LEFT JOIN airlines\n",
        "  ON flights.carrier = airlines.carrier\n",
        "WHERE planes.year IS NOT NULL\n",
        "GROUP BY flights.carrier, airlines.name\n",
        "ORDER BY avg_plane_age DESC\n",
        "\"\"\")\n",
        "\n",
        "print(result)"
      ]
    },
    {
      "cell_type": "markdown",
      "metadata": {
        "id": "EjrDCwK_RGmz"
      },
      "source": [
        "### 3.3 Find flights that experienced both departure delays and bad weather\n",
        "\n",
        "Join flights with weather data and find flights where departure delay > 30 minutes and either wind_speed > 20 or precip > 0.1"
      ]
    },
    {
      "cell_type": "code",
      "execution_count": 54,
      "metadata": {
        "colab": {
          "base_uri": "https://localhost:8080/"
        },
        "id": "t52Af7TnRGmz",
        "outputId": "db7b3d80-bd9d-4d00-eb0c-af0279f3d55f"
      },
      "outputs": [
        {
          "output_type": "stream",
          "name": "stdout",
          "text": [
            "shape: (16_238, 19)\n",
            "┌──────┬───────┬─────┬──────────┬───┬──────────┬──────┬────────┬─────────────────────────┐\n",
            "│ year ┆ month ┆ day ┆ dep_time ┆ … ┆ distance ┆ hour ┆ minute ┆ time_hour               │\n",
            "│ ---  ┆ ---   ┆ --- ┆ ---      ┆   ┆ ---      ┆ ---  ┆ ---    ┆ ---                     │\n",
            "│ i64  ┆ i64   ┆ i64 ┆ i64      ┆   ┆ i64      ┆ i64  ┆ i64    ┆ datetime[μs, UTC]       │\n",
            "╞══════╪═══════╪═════╪══════════╪═══╪══════════╪══════╪════════╪═════════════════════════╡\n",
            "│ 2013 ┆ 1     ┆ 6   ┆ 629      ┆ … ┆ 1576     ┆ 5    ┆ 45     ┆ 2013-01-06 10:00:00 UTC │\n",
            "│ 2013 ┆ 1     ┆ 11  ┆ 11       ┆ … ┆ 1617     ┆ 23   ┆ 59     ┆ 2013-01-12 04:00:00 UTC │\n",
            "│ 2013 ┆ 1     ┆ 11  ┆ 19       ┆ … ┆ 1576     ┆ 23   ┆ 59     ┆ 2013-01-12 04:00:00 UTC │\n",
            "│ 2013 ┆ 1     ┆ 11  ┆ 1511     ┆ … ┆ 544      ┆ 15   ┆ 10     ┆ 2013-01-11 20:00:00 UTC │\n",
            "│ 2013 ┆ 1     ┆ 11  ┆ 1512     ┆ … ┆ 1620     ┆ 15   ┆ 5      ┆ 2013-01-11 20:00:00 UTC │\n",
            "│ …    ┆ …     ┆ …   ┆ …        ┆ … ┆ …        ┆ …    ┆ …      ┆ …                       │\n",
            "│ 2013 ┆ 9     ┆ 21  ┆ 1249     ┆ … ┆ 1089     ┆ 12   ┆ 45     ┆ 2013-09-21 16:00:00 UTC │\n",
            "│ 2013 ┆ 9     ┆ 21  ┆ 1252     ┆ … ┆ 2475     ┆ 11   ┆ 59     ┆ 2013-09-21 15:00:00 UTC │\n",
            "│ 2013 ┆ 9     ┆ 21  ┆ 1257     ┆ … ┆ 1028     ┆ 12   ┆ 47     ┆ 2013-09-21 16:00:00 UTC │\n",
            "│ 2013 ┆ 9     ┆ 21  ┆ 1302     ┆ … ┆ 2475     ┆ 12   ┆ 0      ┆ 2013-09-21 16:00:00 UTC │\n",
            "│ 2013 ┆ 9     ┆ 21  ┆ 1302     ┆ … ┆ 1069     ┆ 12   ┆ 55     ┆ 2013-09-21 16:00:00 UTC │\n",
            "└──────┴───────┴─────┴──────────┴───┴──────────┴──────┴────────┴─────────────────────────┘\n"
          ]
        }
      ],
      "source": [
        "# First, explore the weather table structure\n",
        "result = ctx.execute(\"\"\"\n",
        "    SELECT *\n",
        "    FROM weather\n",
        "    LIMIT 5\n",
        "\"\"\")\n",
        "# print(result)\n",
        "\n",
        "# Now write your join query\n",
        "result = ctx.execute(\"\"\"\n",
        "SELECT flights.*\n",
        "FROM flights\n",
        "INNER JOIN weather\n",
        "  ON flights.origin   = weather.origin\n",
        "  AND flights.time_hour = weather.time_hour\n",
        "WHERE flights.dep_delay > 0\n",
        "  AND (weather.precip > 0 OR weather.visib < 5)\n",
        "\"\"\")\n",
        "\n",
        "print(result)"
      ]
    },
    {
      "cell_type": "markdown",
      "metadata": {
        "id": "yWHEeHMTRGmz"
      },
      "source": [
        "## Exercise 4: Advanced Queries\n",
        "\n",
        "### 4.1 Find the most popular aircraft types (by number of flights)\n",
        "\n",
        "Join flights with planes to get manufacturer and model information. Show top 10."
      ]
    },
    {
      "cell_type": "code",
      "execution_count": 57,
      "metadata": {
        "colab": {
          "base_uri": "https://localhost:8080/"
        },
        "id": "Vih3jYFPRGmz",
        "outputId": "10cb5257-d892-492a-e91d-fcb24a757638"
      },
      "outputs": [
        {
          "output_type": "stream",
          "name": "stdout",
          "text": [
            "shape: (10, 3)\n",
            "┌───────────────────────────────┬─────────────────┬──────────────┐\n",
            "│ manufacturer                  ┆ model           ┆ flight_count │\n",
            "│ ---                           ┆ ---             ┆ ---          │\n",
            "│ str                           ┆ str             ┆ u32          │\n",
            "╞═══════════════════════════════╪═════════════════╪══════════════╡\n",
            "│ AIRBUS                        ┆ A320-232        ┆ 31278        │\n",
            "│ EMBRAER                       ┆ EMB-145LR       ┆ 28027        │\n",
            "│ EMBRAER                       ┆ ERJ 190-100 IGW ┆ 23716        │\n",
            "│ AIRBUS INDUSTRIE              ┆ A320-232        ┆ 14553        │\n",
            "│ EMBRAER                       ┆ EMB-145XR       ┆ 14051        │\n",
            "│ BOEING                        ┆ 737-824         ┆ 13809        │\n",
            "│ BOMBARDIER INC                ┆ CL-600-2D24     ┆ 11807        │\n",
            "│ BOEING                        ┆ 737-7H4         ┆ 10389        │\n",
            "│ BOEING                        ┆ 757-222         ┆ 9150         │\n",
            "│ MCDONNELL DOUGLAS AIRCRAFT CO ┆ MD-88           ┆ 8932         │\n",
            "└───────────────────────────────┴─────────────────┴──────────────┘\n"
          ]
        }
      ],
      "source": [
        "# Write your SQL query here\n",
        "result = ctx.execute(\"\"\"\n",
        "SELECT\n",
        "    p.manufacturer,\n",
        "    p.model,\n",
        "    COUNT(*) AS flight_count\n",
        "FROM flights AS f\n",
        "JOIN planes AS p\n",
        "    ON f.tailnum = p.tailnum\n",
        "WHERE p.manufacturer IS NOT NULL AND p.model IS NOT NULL\n",
        "GROUP BY p.manufacturer, p.model\n",
        "ORDER BY flight_count DESC\n",
        "LIMIT 10\n",
        "\"\"\")\n",
        "\n",
        "print(result)"
      ]
    },
    {
      "cell_type": "markdown",
      "metadata": {
        "id": "DVXzbEG1RGmz"
      },
      "source": [
        "### 4.2 Analyze route performance\n",
        "\n",
        "Find the top 10 routes (origin-destination pairs) with:\n",
        "- Total number of flights\n",
        "- Average departure delay\n",
        "- Percentage of flights delayed more than 30 minutes\n",
        "\n",
        "Include airport names, not just codes."
      ]
    },
    {
      "cell_type": "code",
      "execution_count": 58,
      "metadata": {
        "colab": {
          "base_uri": "https://localhost:8080/"
        },
        "id": "-PqPYchmRGmz",
        "outputId": "50d1a4d9-f867-4498-d9e6-8f5a381b5fa6"
      },
      "outputs": [
        {
          "output_type": "stream",
          "name": "stdout",
          "text": [
            "shape: (10, 5)\n",
            "┌────────────────┬─────────────────────┬───────────────┬─────────────────────┬─────────────────────┐\n",
            "│ origin_airport ┆ destination_airport ┆ total_flights ┆ average_departure_d ┆ percentage_delayed_ │\n",
            "│ ---            ┆ ---                 ┆ ---           ┆ elay                ┆ more_than_3…        │\n",
            "│ str            ┆ str                 ┆ u32           ┆ ---                 ┆ ---                 │\n",
            "│                ┆                     ┆               ┆ f64                 ┆ f32                 │\n",
            "╞════════════════╪═════════════════════╪═══════════════╪═════════════════════╪═════════════════════╡\n",
            "│ John F Kennedy ┆ Los Angeles Intl    ┆ 11196         ┆ 8.522508            ┆ 9.88746             │\n",
            "│ Intl           ┆                     ┆               ┆                     ┆                     │\n",
            "│ La Guardia     ┆ Hartsfield Jackson  ┆ 10082         ┆ 11.448621           ┆ 12.467764           │\n",
            "│                ┆ Atlanta Int…        ┆               ┆                     ┆                     │\n",
            "│ La Guardia     ┆ Chicago Ohare Intl  ┆ 8548          ┆ 10.740758           ┆ 13.827796           │\n",
            "│ John F Kennedy ┆ San Francisco Intl  ┆ 8138          ┆ 11.952691           ┆ 12.214303           │\n",
            "│ Intl           ┆                     ┆               ┆                     ┆                     │\n",
            "│ John F Kennedy ┆ null                ┆ 6013          ┆ 9.597871            ┆ 11.990686           │\n",
            "│ Intl           ┆                     ┆               ┆                     ┆                     │\n",
            "│ La Guardia     ┆ Charlotte Douglas   ┆ 5969          ┆ 8.965321            ┆ 12.347127           │\n",
            "│                ┆ Intl                ┆               ┆                     ┆                     │\n",
            "│ Newark Liberty ┆ Chicago Ohare Intl  ┆ 5851          ┆ 14.644163           ┆ 16.68091            │\n",
            "│ Intl           ┆                     ┆               ┆                     ┆                     │\n",
            "│ John F Kennedy ┆ General Edward      ┆ 5786          ┆ 11.694953           ┆ 14.033875           │\n",
            "│ Intl           ┆ Lawrence Logan …    ┆               ┆                     ┆                     │\n",
            "│ La Guardia     ┆ Miami Intl          ┆ 5725          ┆ 7.361747            ┆ 9.554585            │\n",
            "│ John F Kennedy ┆ Orlando Intl        ┆ 5434          ┆ 10.601583           ┆ 12.789842           │\n",
            "│ Intl           ┆                     ┆               ┆                     ┆                     │\n",
            "└────────────────┴─────────────────────┴───────────────┴─────────────────────┴─────────────────────┘\n"
          ]
        }
      ],
      "source": [
        "# Write your SQL query here\n",
        "result = ctx.execute(\"\"\"\n",
        "WITH enriched AS (\n",
        "    SELECT flights.*,\n",
        "            ao.name AS origin_airport,\n",
        "            ad.name AS destination_airport\n",
        "    FROM flights\n",
        "    LEFT JOIN airports AS ao ON flights.origin = ao.faa\n",
        "    LEFT JOIN airports AS ad ON flights.dest   = ad.faa\n",
        ")\n",
        "SELECT origin_airport,\n",
        "        destination_airport,\n",
        "        COUNT(*) AS total_flights,\n",
        "        AVG(dep_delay) AS average_departure_delay,\n",
        "        CAST(AVG(CASE WHEN dep_delay > 30 THEN 1 ELSE 0 END) * 100 AS REAL)\n",
        "          AS percentage_delayed_more_than_30_min\n",
        "FROM enriched\n",
        "WHERE dep_delay IS NOT NULL\n",
        "GROUP BY origin_airport, destination_airport\n",
        "ORDER BY total_flights DESC\n",
        "LIMIT 10\n",
        "\"\"\")\n",
        "\n",
        "print(result)"
      ]
    },
    {
      "cell_type": "code",
      "execution_count": null,
      "metadata": {
        "id": "9Rzql92IRGmz"
      },
      "outputs": [],
      "source": [
        "# Write your SQL query here\n",
        "result = ctx.execute(\"\"\"\n",
        "-- Your query here\n",
        "\"\"\")\n",
        "\n",
        "# print(result)"
      ]
    },
    {
      "cell_type": "markdown",
      "metadata": {
        "id": "nSPlXhcWRGmz"
      },
      "source": [
        "## Bonus: Compare with Polars\n",
        "\n",
        "### Choose one of the queries above and implement it using Polars\n",
        "\n",
        "This will help you understand the relationship between SQL and Polars operations."
      ]
    },
    {
      "cell_type": "code",
      "execution_count": 59,
      "metadata": {
        "colab": {
          "base_uri": "https://localhost:8080/"
        },
        "id": "2TY3zFRtRGmz",
        "outputId": "f13fd1ea-4323-40d4-c08a-ba2103458f07"
      },
      "outputs": [
        {
          "output_type": "stream",
          "name": "stdout",
          "text": [
            "SQL Result:\n",
            "shape: (3, 2)\n",
            "┌────────┬───────────┐\n",
            "│ origin ┆ avg_delay │\n",
            "│ ---    ┆ ---       │\n",
            "│ str    ┆ f64       │\n",
            "╞════════╪═══════════╡\n",
            "│ EWR    ┆ 15.107954 │\n",
            "│ JFK    ┆ 12.112159 │\n",
            "│ LGA    ┆ 10.346876 │\n",
            "└────────┴───────────┘\n",
            "\n",
            "Polars Result:\n",
            "shape: (3, 2)\n",
            "┌────────┬───────────┐\n",
            "│ origin ┆ avg_delay │\n",
            "│ ---    ┆ ---       │\n",
            "│ str    ┆ f64       │\n",
            "╞════════╪═══════════╡\n",
            "│ EWR    ┆ 15.107954 │\n",
            "│ JFK    ┆ 12.112159 │\n",
            "│ LGA    ┆ 10.346876 │\n",
            "└────────┴───────────┘\n"
          ]
        }
      ],
      "source": [
        "# Example: Let's implement Exercise 2.1 (average delay by origin) in Polars\n",
        "\n",
        "# SQL version (for reference)\n",
        "sql_result = ctx.execute(\"\"\"\n",
        "    SELECT\n",
        "        origin,\n",
        "        AVG(dep_delay) as avg_delay\n",
        "    FROM flights\n",
        "    WHERE dep_delay IS NOT NULL\n",
        "    GROUP BY origin\n",
        "    ORDER BY avg_delay DESC\n",
        "\"\"\")\n",
        "\n",
        "# Polars version\n",
        "polars_result = (\n",
        "    flights\n",
        "    .filter(pl.col('dep_delay').is_not_null())\n",
        "    .group_by('origin')\n",
        "    .agg(pl.col('dep_delay').mean().alias('avg_delay'))\n",
        "    .sort('avg_delay', descending=True)\n",
        ")\n",
        "\n",
        "print(\"SQL Result:\")\n",
        "print(sql_result)\n",
        "print(\"\\nPolars Result:\")\n",
        "print(polars_result)\n",
        "\n",
        "# Now implement one of your own queries in Polars below:\n",
        "# Your Polars code here"
      ]
    },
    {
      "cell_type": "code",
      "source": [
        "# Bonus Question (3.3 in Polars)\n",
        "\n",
        "flights_weather = flights.join(\n",
        "    weather, on=[\"origin\", \"time_hour\"], how=\"inner\"\n",
        ")\n",
        "\n",
        "delayed_and_bad = flights_weather.filter(\n",
        "    (pl.col(\"dep_delay\") > 0) & ((pl.col(\"precip\") > 0) | (pl.col(\"visib\") < 5))\n",
        ")\n",
        "\n",
        "delayed_and_bad\n"
      ],
      "metadata": {
        "colab": {
          "base_uri": "https://localhost:8080/",
          "height": 645
        },
        "id": "iXfyTePNcNTI",
        "outputId": "5ba72d77-942d-42d1-a7a3-3830ad67a11a"
      },
      "execution_count": 60,
      "outputs": [
        {
          "output_type": "execute_result",
          "data": {
            "text/plain": [
              "shape: (16_238, 32)\n",
              "┌──────┬───────┬─────┬──────────┬───┬───────────┬────────┬──────────┬───────┐\n",
              "│ year ┆ month ┆ day ┆ dep_time ┆ … ┆ wind_gust ┆ precip ┆ pressure ┆ visib │\n",
              "│ ---  ┆ ---   ┆ --- ┆ ---      ┆   ┆ ---       ┆ ---    ┆ ---      ┆ ---   │\n",
              "│ i64  ┆ i64   ┆ i64 ┆ i64      ┆   ┆ f64       ┆ f64    ┆ f64      ┆ f64   │\n",
              "╞══════╪═══════╪═════╪══════════╪═══╪═══════════╪════════╪══════════╪═══════╡\n",
              "│ 2013 ┆ 1     ┆ 6   ┆ 629      ┆ … ┆ null      ┆ 0.0    ┆ 1020.9   ┆ 4.0   │\n",
              "│ 2013 ┆ 1     ┆ 11  ┆ 11       ┆ … ┆ null      ┆ 0.02   ┆ 1019.2   ┆ 3.0   │\n",
              "│ 2013 ┆ 1     ┆ 11  ┆ 19       ┆ … ┆ null      ┆ 0.02   ┆ 1019.2   ┆ 3.0   │\n",
              "│ 2013 ┆ 1     ┆ 11  ┆ 1511     ┆ … ┆ null      ┆ 0.01   ┆ 1025.0   ┆ 9.0   │\n",
              "│ 2013 ┆ 1     ┆ 11  ┆ 1512     ┆ … ┆ null      ┆ 0.01   ┆ 1025.0   ┆ 9.0   │\n",
              "│ …    ┆ …     ┆ …   ┆ …        ┆ … ┆ …         ┆ …      ┆ …        ┆ …     │\n",
              "│ 2013 ┆ 9     ┆ 21  ┆ 1249     ┆ … ┆ null      ┆ 0.01   ┆ null     ┆ 10.0  │\n",
              "│ 2013 ┆ 9     ┆ 21  ┆ 1252     ┆ … ┆ null      ┆ 0.17   ┆ 1012.5   ┆ 6.0   │\n",
              "│ 2013 ┆ 9     ┆ 21  ┆ 1257     ┆ … ┆ null      ┆ 0.01   ┆ null     ┆ 10.0  │\n",
              "│ 2013 ┆ 9     ┆ 21  ┆ 1302     ┆ … ┆ null      ┆ 0.01   ┆ null     ┆ 10.0  │\n",
              "│ 2013 ┆ 9     ┆ 21  ┆ 1302     ┆ … ┆ null      ┆ 0.01   ┆ null     ┆ 10.0  │\n",
              "└──────┴───────┴─────┴──────────┴───┴───────────┴────────┴──────────┴───────┘"
            ],
            "text/html": [
              "<div><style>\n",
              ".dataframe > thead > tr,\n",
              ".dataframe > tbody > tr {\n",
              "  text-align: right;\n",
              "  white-space: pre-wrap;\n",
              "}\n",
              "</style>\n",
              "<small>shape: (16_238, 32)</small><table border=\"1\" class=\"dataframe\"><thead><tr><th>year</th><th>month</th><th>day</th><th>dep_time</th><th>sched_dep_time</th><th>dep_delay</th><th>arr_time</th><th>sched_arr_time</th><th>arr_delay</th><th>carrier</th><th>flight</th><th>tailnum</th><th>origin</th><th>dest</th><th>air_time</th><th>distance</th><th>hour</th><th>minute</th><th>time_hour</th><th>year_right</th><th>month_right</th><th>day_right</th><th>hour_right</th><th>temp</th><th>dewp</th><th>humid</th><th>wind_dir</th><th>wind_speed</th><th>wind_gust</th><th>precip</th><th>pressure</th><th>visib</th></tr><tr><td>i64</td><td>i64</td><td>i64</td><td>i64</td><td>i64</td><td>i64</td><td>i64</td><td>i64</td><td>i64</td><td>str</td><td>i64</td><td>str</td><td>str</td><td>str</td><td>i64</td><td>i64</td><td>i64</td><td>i64</td><td>datetime[μs, UTC]</td><td>i64</td><td>i64</td><td>i64</td><td>i64</td><td>f64</td><td>f64</td><td>f64</td><td>i64</td><td>f64</td><td>f64</td><td>f64</td><td>f64</td><td>f64</td></tr></thead><tbody><tr><td>2013</td><td>1</td><td>6</td><td>629</td><td>545</td><td>44</td><td>1156</td><td>1022</td><td>94</td><td>&quot;B6&quot;</td><td>725</td><td>&quot;N661JB&quot;</td><td>&quot;JFK&quot;</td><td>&quot;BQN&quot;</td><td>202</td><td>1576</td><td>5</td><td>45</td><td>2013-01-06 10:00:00 UTC</td><td>2013</td><td>1</td><td>6</td><td>5</td><td>33.08</td><td>30.92</td><td>91.66</td><td>250</td><td>8.05546</td><td>null</td><td>0.0</td><td>1020.9</td><td>4.0</td></tr><tr><td>2013</td><td>1</td><td>11</td><td>11</td><td>2359</td><td>12</td><td>436</td><td>444</td><td>-8</td><td>&quot;B6&quot;</td><td>739</td><td>&quot;N779JB&quot;</td><td>&quot;JFK&quot;</td><td>&quot;PSE&quot;</td><td>190</td><td>1617</td><td>23</td><td>59</td><td>2013-01-12 04:00:00 UTC</td><td>2013</td><td>1</td><td>11</td><td>23</td><td>46.04</td><td>44.96</td><td>95.99</td><td>50</td><td>8.05546</td><td>null</td><td>0.02</td><td>1019.2</td><td>3.0</td></tr><tr><td>2013</td><td>1</td><td>11</td><td>19</td><td>2359</td><td>20</td><td>439</td><td>437</td><td>2</td><td>&quot;B6&quot;</td><td>727</td><td>&quot;N705JB&quot;</td><td>&quot;JFK&quot;</td><td>&quot;BQN&quot;</td><td>180</td><td>1576</td><td>23</td><td>59</td><td>2013-01-12 04:00:00 UTC</td><td>2013</td><td>1</td><td>11</td><td>23</td><td>46.04</td><td>44.96</td><td>95.99</td><td>50</td><td>8.05546</td><td>null</td><td>0.02</td><td>1019.2</td><td>3.0</td></tr><tr><td>2013</td><td>1</td><td>11</td><td>1511</td><td>1510</td><td>1</td><td>1730</td><td>1710</td><td>20</td><td>&quot;MQ&quot;</td><td>4579</td><td>&quot;N524MQ&quot;</td><td>&quot;LGA&quot;</td><td>&quot;CLT&quot;</td><td>104</td><td>544</td><td>15</td><td>10</td><td>2013-01-11 20:00:00 UTC</td><td>2013</td><td>1</td><td>11</td><td>15</td><td>39.92</td><td>35.06</td><td>82.6</td><td>50</td><td>9.20624</td><td>null</td><td>0.01</td><td>1025.0</td><td>9.0</td></tr><tr><td>2013</td><td>1</td><td>11</td><td>1512</td><td>1505</td><td>7</td><td>1823</td><td>1734</td><td>49</td><td>&quot;UA&quot;</td><td>745</td><td>&quot;N528UA&quot;</td><td>&quot;LGA&quot;</td><td>&quot;DEN&quot;</td><td>270</td><td>1620</td><td>15</td><td>5</td><td>2013-01-11 20:00:00 UTC</td><td>2013</td><td>1</td><td>11</td><td>15</td><td>39.92</td><td>35.06</td><td>82.6</td><td>50</td><td>9.20624</td><td>null</td><td>0.01</td><td>1025.0</td><td>9.0</td></tr><tr><td>&hellip;</td><td>&hellip;</td><td>&hellip;</td><td>&hellip;</td><td>&hellip;</td><td>&hellip;</td><td>&hellip;</td><td>&hellip;</td><td>&hellip;</td><td>&hellip;</td><td>&hellip;</td><td>&hellip;</td><td>&hellip;</td><td>&hellip;</td><td>&hellip;</td><td>&hellip;</td><td>&hellip;</td><td>&hellip;</td><td>&hellip;</td><td>&hellip;</td><td>&hellip;</td><td>&hellip;</td><td>&hellip;</td><td>&hellip;</td><td>&hellip;</td><td>&hellip;</td><td>&hellip;</td><td>&hellip;</td><td>&hellip;</td><td>&hellip;</td><td>&hellip;</td><td>&hellip;</td></tr><tr><td>2013</td><td>9</td><td>21</td><td>1249</td><td>1245</td><td>4</td><td>1541</td><td>1600</td><td>-19</td><td>&quot;AA&quot;</td><td>1697</td><td>&quot;N618AA&quot;</td><td>&quot;JFK&quot;</td><td>&quot;MIA&quot;</td><td>135</td><td>1089</td><td>12</td><td>45</td><td>2013-09-21 16:00:00 UTC</td><td>2013</td><td>9</td><td>21</td><td>12</td><td>71.6</td><td>68.0</td><td>88.43</td><td>180</td><td>16.11092</td><td>null</td><td>0.01</td><td>null</td><td>10.0</td></tr><tr><td>2013</td><td>9</td><td>21</td><td>1252</td><td>1159</td><td>53</td><td>1612</td><td>1453</td><td>79</td><td>&quot;B6&quot;</td><td>323</td><td>&quot;N516JB&quot;</td><td>&quot;JFK&quot;</td><td>&quot;LAX&quot;</td><td>323</td><td>2475</td><td>11</td><td>59</td><td>2013-09-21 15:00:00 UTC</td><td>2013</td><td>9</td><td>21</td><td>11</td><td>68.0</td><td>66.02</td><td>93.38</td><td>170</td><td>10.35702</td><td>null</td><td>0.17</td><td>1012.5</td><td>6.0</td></tr><tr><td>2013</td><td>9</td><td>21</td><td>1257</td><td>1247</td><td>10</td><td>1555</td><td>1535</td><td>20</td><td>&quot;B6&quot;</td><td>553</td><td>&quot;N597JB&quot;</td><td>&quot;JFK&quot;</td><td>&quot;PBI&quot;</td><td>132</td><td>1028</td><td>12</td><td>47</td><td>2013-09-21 16:00:00 UTC</td><td>2013</td><td>9</td><td>21</td><td>12</td><td>71.6</td><td>68.0</td><td>88.43</td><td>180</td><td>16.11092</td><td>null</td><td>0.01</td><td>null</td><td>10.0</td></tr><tr><td>2013</td><td>9</td><td>21</td><td>1302</td><td>1200</td><td>62</td><td>1616</td><td>1455</td><td>81</td><td>&quot;AA&quot;</td><td>3</td><td>&quot;N336AA&quot;</td><td>&quot;JFK&quot;</td><td>&quot;LAX&quot;</td><td>328</td><td>2475</td><td>12</td><td>0</td><td>2013-09-21 16:00:00 UTC</td><td>2013</td><td>9</td><td>21</td><td>12</td><td>71.6</td><td>68.0</td><td>88.43</td><td>180</td><td>16.11092</td><td>null</td><td>0.01</td><td>null</td><td>10.0</td></tr><tr><td>2013</td><td>9</td><td>21</td><td>1302</td><td>1255</td><td>7</td><td>1556</td><td>1554</td><td>2</td><td>&quot;B6&quot;</td><td>1401</td><td>&quot;N236JB&quot;</td><td>&quot;JFK&quot;</td><td>&quot;FLL&quot;</td><td>135</td><td>1069</td><td>12</td><td>55</td><td>2013-09-21 16:00:00 UTC</td><td>2013</td><td>9</td><td>21</td><td>12</td><td>71.6</td><td>68.0</td><td>88.43</td><td>180</td><td>16.11092</td><td>null</td><td>0.01</td><td>null</td><td>10.0</td></tr></tbody></table></div>"
            ]
          },
          "metadata": {},
          "execution_count": 60
        }
      ]
    }
  ],
  "metadata": {
    "kernelspec": {
      "display_name": "Python 3",
      "language": "python",
      "name": "python3"
    },
    "language_info": {
      "codemirror_mode": {
        "name": "ipython",
        "version": 3
      },
      "file_extension": ".py",
      "mimetype": "text/x-python",
      "name": "python",
      "nbconvert_exporter": "python",
      "pygments_lexer": "ipython3",
      "version": "3.8.0"
    },
    "colab": {
      "provenance": []
    }
  },
  "nbformat": 4,
  "nbformat_minor": 0
}